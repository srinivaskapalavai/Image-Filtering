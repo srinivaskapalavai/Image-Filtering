{
 "cells": [
  {
   "cell_type": "code",
   "execution_count": 1,
   "id": "0919a8cc",
   "metadata": {},
   "outputs": [
    {
     "ename": "ModuleNotFoundError",
     "evalue": "No module named 'imutils'",
     "output_type": "error",
     "traceback": [
      "\u001b[1;31m---------------------------------------------------------------------------\u001b[0m",
      "\u001b[1;31mModuleNotFoundError\u001b[0m                       Traceback (most recent call last)",
      "\u001b[1;32m<ipython-input-1-57dfaa8b5114>\u001b[0m in \u001b[0;36m<module>\u001b[1;34m\u001b[0m\n\u001b[0;32m      2\u001b[0m \u001b[1;32mimport\u001b[0m \u001b[0mnumpy\u001b[0m \u001b[1;32mas\u001b[0m \u001b[0mnp\u001b[0m\u001b[1;33m\u001b[0m\u001b[1;33m\u001b[0m\u001b[0m\n\u001b[0;32m      3\u001b[0m \u001b[1;32mimport\u001b[0m \u001b[0mcv2\u001b[0m\u001b[1;33m\u001b[0m\u001b[1;33m\u001b[0m\u001b[0m\n\u001b[1;32m----> 4\u001b[1;33m \u001b[1;32mimport\u001b[0m \u001b[0mimutils\u001b[0m\u001b[1;33m\u001b[0m\u001b[1;33m\u001b[0m\u001b[0m\n\u001b[0m",
      "\u001b[1;31mModuleNotFoundError\u001b[0m: No module named 'imutils'"
     ]
    }
   ],
   "source": [
    "# importing the Libraries\n",
    "import numpy as np\n",
    "import cv2\n",
    "import imutils"
   ]
  },
  {
   "cell_type": "code",
   "execution_count": null,
   "id": "ed287aa4",
   "metadata": {},
   "outputs": [],
   "source": [
    "!pip install imutils"
   ]
  },
  {
   "cell_type": "code",
   "execution_count": 3,
   "id": "7aaa6396",
   "metadata": {},
   "outputs": [],
   "source": [
    "# reading image by using path\n",
    "args_image =\"manpic.jpg\"\n",
    "image = cv2.imread(args_image)"
   ]
  },
  {
   "cell_type": "code",
   "execution_count": 4,
   "id": "b1ceb5f3",
   "metadata": {},
   "outputs": [],
   "source": [
    "#original\n",
    "image=cv2.resize(image,(250,250))\n",
    "cv2.imshow(\"Original Image\", image)\n",
    "\n",
    "\n",
    "# blur\n",
    "ksize = (10, 10)\n",
    "blurimage = cv2.blur(image, ksize) \n",
    "blurimage = cv2.resize(blurimage, (250, 250))\n",
    "cv2.imshow('blur_image', blurimage) \n",
    "\n",
    "\n",
    "#gray\n",
    "grayImage = cv2.cvtColor(image, cv2.COLOR_BGR2GRAY)\n",
    "grayImage = cv2.resize(grayImage, (250, 250))\n",
    "cv2.imshow(\"gray\", grayImage)\n",
    "\n",
    "\n",
    "#grayblur\n",
    "grayImageBlur = cv2.blur(grayImage,(9,9))\n",
    "grayImageBlur = cv2.resize(grayImageBlur, (250, 250))\n",
    "cv2.imshow(\"grayBlur\", grayImageBlur)\n",
    "\n",
    "\n",
    "#Motion Blur\n",
    "kernel = np.ones((3,3), np.uint8)\n",
    "size = 15\n",
    "kernel_motion_blur = np.zeros((size, size))\n",
    "kernel_motion_blur[int((size-1)/2), :] = np.ones(size)\n",
    "kernel_motion_blur = kernel_motion_blur / size\n",
    "# applying the kernel to the input image\n",
    "output = cv2.filter2D(image, -2, kernel_motion_blur)\n",
    "output = cv2.resize(output, (250, 250))\n",
    "cv2.imshow('Motion Blur', output)\n",
    "\n",
    "\n",
    "#Cartoon\n",
    "# Edges\n",
    "gray = cv2.cvtColor(image, cv2.COLOR_BGR2GRAY)\n",
    "gray = cv2.medianBlur (gray, 5)\n",
    "edges = cv2.adaptiveThreshold (gray, 255,cv2.ADAPTIVE_THRESH_MEAN_C, cv2.THRESH_BINARY, 9, 9)\n",
    "# Cartoonization\n",
    "color=cv2.bilateralFilter(image, 9, 250, 250) \n",
    "cartoon = cv2.bitwise_and(color, color, mask=edges)\n",
    "#blur\n",
    "edges = cv2.resize(edges, (250, 250))\n",
    "cartoon = cv2.resize(cartoon, (250, 250))\n",
    "cv2.imshow(\"Cartoon\", cartoon)\n",
    "cv2.imshow(\"edges\", edges)\n",
    "\n",
    "\n",
    "#edges\n",
    "edgedImage = cv2.Canny(grayImage, 100, 300, 3)\n",
    "edgedImage = cv2.resize(edgedImage, (250, 250))\n",
    "cv2.imshow(\"Edge Detected Image\", edgedImage)\n",
    "\n",
    "\n",
    "#dilation\n",
    "image_dilation = cv2.dilate(image, kernel, iterations=1)\n",
    "image_dilation = cv2.resize(image_dilation, (250, 250))\n",
    "cv2.imshow('Dilation', image_dilation)\n",
    "\n",
    "\n",
    "#erosion\n",
    "image_erosion = cv2.erode(image, kernel, iterations=1)\n",
    "image_erosion = cv2.resize(image_erosion, (250, 250))\n",
    "cv2.imshow('Erosion', image_erosion)\n",
    "\n",
    "\n",
    "# nagitive image\n",
    "img_neg = cv2.bitwise_not(image)\n",
    "cv2.imshow('negative',img_neg)\n"
   ]
  },
  {
   "cell_type": "code",
   "execution_count": null,
   "id": "66bf5d1c",
   "metadata": {},
   "outputs": [],
   "source": [
    "cv2.waitKey(0)\n",
    "cv2.destroyAllWindows()"
   ]
  },
  {
   "cell_type": "code",
   "execution_count": null,
   "id": "e81b6cfd",
   "metadata": {},
   "outputs": [],
   "source": []
  }
 ],
 "metadata": {
  "kernelspec": {
   "display_name": "Python 3",
   "language": "python",
   "name": "python3"
  },
  "language_info": {
   "codemirror_mode": {
    "name": "ipython",
    "version": 3
   },
   "file_extension": ".py",
   "mimetype": "text/x-python",
   "name": "python",
   "nbconvert_exporter": "python",
   "pygments_lexer": "ipython3",
   "version": "3.8.8"
  }
 },
 "nbformat": 4,
 "nbformat_minor": 5
}
